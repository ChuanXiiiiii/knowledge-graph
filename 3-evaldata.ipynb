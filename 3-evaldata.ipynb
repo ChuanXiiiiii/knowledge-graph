{
 "cells": [
  {
   "cell_type": "code",
   "id": "initial_id",
   "metadata": {
    "collapsed": true,
    "ExecuteTime": {
     "end_time": "2024-11-20T06:25:28.460775Z",
     "start_time": "2024-11-20T06:25:28.446818Z"
    }
   },
   "source": "import json",
   "outputs": [],
   "execution_count": 2
  },
  {
   "metadata": {
    "ExecuteTime": {
     "end_time": "2024-11-20T06:25:41.239006Z",
     "start_time": "2024-11-20T06:25:41.213671Z"
    }
   },
   "cell_type": "code",
   "source": [
    "with open('data/new/all_list_result-new.json',encoding='utf-8') as f:\n",
    "    all_list_result = json.load(f)"
   ],
   "id": "8514ac2c315a5881",
   "outputs": [],
   "execution_count": 4
  },
  {
   "metadata": {
    "ExecuteTime": {
     "end_time": "2024-11-20T07:11:30.538498Z",
     "start_time": "2024-11-20T07:11:30.525537Z"
    }
   },
   "cell_type": "code",
   "source": [
    "entity_rel_count = {\n",
    "    't': 0,\n",
    "    'f': 0,\n",
    "    'n':0\n",
    "}"
   ],
   "id": "885ce7eafca5174d",
   "outputs": [],
   "execution_count": 8
  },
  {
   "metadata": {
    "ExecuteTime": {
     "end_time": "2024-11-20T07:11:32.480342Z",
     "start_time": "2024-11-20T07:11:32.472354Z"
    }
   },
   "cell_type": "code",
   "source": [
    "for item in all_list_result:\n",
    "    result_list = item[-1]\n",
    "    for result in result_list:\n",
    "        if result[-1] == 1:\n",
    "            entity_rel_count['t'] += 1\n",
    "        elif result[-1] == 0:\n",
    "            entity_rel_count['f'] += 1\n",
    "        else:\n",
    "            entity_rel_count['n'] += 1"
   ],
   "id": "4864f4b11f3eb677",
   "outputs": [],
   "execution_count": 9
  },
  {
   "metadata": {
    "ExecuteTime": {
     "end_time": "2024-11-20T07:11:36.288921Z",
     "start_time": "2024-11-20T07:11:36.280948Z"
    }
   },
   "cell_type": "code",
   "source": "entity_rel_count",
   "id": "2f792f86c87b05fb",
   "outputs": [
    {
     "data": {
      "text/plain": [
       "{'t': 3740, 'f': 1952, 'n': 1674}"
      ]
     },
     "execution_count": 10,
     "metadata": {},
     "output_type": "execute_result"
    }
   ],
   "execution_count": 10
  },
  {
   "metadata": {
    "ExecuteTime": {
     "end_time": "2024-11-20T07:12:41.302625Z",
     "start_time": "2024-11-20T07:12:41.288268Z"
    }
   },
   "cell_type": "code",
   "source": [
    "all_count = entity_rel_count['t'] + entity_rel_count['f']+entity_rel_count['n']\n",
    "all_count"
   ],
   "id": "10619cfa4598fda2",
   "outputs": [
    {
     "data": {
      "text/plain": [
       "7366"
      ]
     },
     "execution_count": 11,
     "metadata": {},
     "output_type": "execute_result"
    }
   ],
   "execution_count": 11
  },
  {
   "metadata": {
    "ExecuteTime": {
     "end_time": "2024-11-20T08:16:22.650309Z",
     "start_time": "2024-11-20T08:16:22.645040Z"
    }
   },
   "cell_type": "code",
   "source": [
    "# 数据\n",
    "t = entity_rel_count['t']  # 正确的三元组\n",
    "f = entity_rel_count['f']  # 错误的三元组\n",
    "n = entity_rel_count['n']  # 不希望出现的三元组\n",
    "\n",
    "# 计算指标\n",
    "precision = t / (t + f)\n",
    "recall = t / (t + n)\n",
    "f1_score = 2 * (precision * recall) / (precision + recall)\n",
    "accuracy = t / (t + f + n)\n",
    "\n",
    "# 打印结果\n",
    "print(f\"Precision (精确率): {precision:.4f}\")\n",
    "print(f\"Recall (召回率): {recall:.4f}\")\n",
    "print(f\"F1-Score (F1分数): {f1_score:.4f}\")\n",
    "print(f\"Accuracy (准确率): {accuracy:.4f}\")"
   ],
   "id": "59c10dd992824caa",
   "outputs": [
    {
     "name": "stdout",
     "output_type": "stream",
     "text": [
      "Precision (精确率): 0.6571\n",
      "Recall (召回率): 0.6908\n",
      "F1-Score (F1分数): 0.6735\n",
      "Accuracy (准确率): 0.5077\n"
     ]
    }
   ],
   "execution_count": 12
  }
 ],
 "metadata": {
  "kernelspec": {
   "display_name": "Python 3",
   "language": "python",
   "name": "python3"
  },
  "language_info": {
   "codemirror_mode": {
    "name": "ipython",
    "version": 2
   },
   "file_extension": ".py",
   "mimetype": "text/x-python",
   "name": "python",
   "nbconvert_exporter": "python",
   "pygments_lexer": "ipython2",
   "version": "2.7.6"
  }
 },
 "nbformat": 4,
 "nbformat_minor": 5
}
